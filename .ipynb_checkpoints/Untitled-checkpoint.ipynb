{
 "cells": [
  {
   "cell_type": "code",
   "execution_count": 13,
   "metadata": {},
   "outputs": [
    {
     "name": "stdout",
     "output_type": "stream",
     "text": [
      "97\n",
      "97\n",
      "97\n"
     ]
    }
   ],
   "source": [
    "def vignere(msg,key):\n",
    "    l=list(msg)\n",
    "    k=list(key)\n",
    "    for x in l:\n",
    "        xNum=ord(x)\n",
    "        print(xNum)\n",
    "    #print(chr(ord(msg[0])+2))\n",
    "    \n",
    "import mathvignere(\"aaa\",'b')"
   ]
  },
  {
   "cell_type": "code",
   "execution_count": 37,
   "metadata": {},
   "outputs": [
    {
     "name": "stdout",
     "output_type": "stream",
     "text": [
      "[(1, 12), (2, 6.0), (3, 4.0), (4, 3.0)]\n"
     ]
    }
   ],
   "source": [
    "import math\n",
    "\n",
    "def findFactors(n):\n",
    "    l=[(1,n)]\n",
    "    for i in range(2,int(n/2)):\n",
    "        if n%i==0:\n",
    "            l.append((i,n/i))\n",
    "    return l\n",
    "\n",
    "def primeFactorize(n):\n",
    "    \n",
    "\n",
    "\n",
    "print(findFactors(12))\n",
    "\n"
   ]
  },
  {
   "cell_type": "code",
   "execution_count": 7,
   "metadata": {
    "collapsed": true
   },
   "outputs": [],
   "source": [
    "def encode(c):\n",
    "    if(c==' '):\n",
    "        return 26\n",
    "    return ord(c)-97\n",
    "\n",
    "#Maps a number to a character\n",
    "def decode(n):\n",
    "    if(n==26):\n",
    "        return ' '\n",
    "    return chr(n+97)\n",
    "\n",
    "#Turns an array of numbers into an array of chars\n",
    "def decodeArray(arr):\n",
    "    return list(map(decode,arr))\n",
    "\n",
    "#Turns an array of chars into an array of numbers\n",
    "def encodeArray(arr):\n",
    "    return list(map(encode,arr))"
   ]
  },
  {
   "cell_type": "code",
   "execution_count": 46,
   "metadata": {},
   "outputs": [
    {
     "name": "stdout",
     "output_type": "stream",
     "text": [
      "True\n"
     ]
    },
    {
     "data": {
      "text/plain": [
       "\"\\nbasically a vernam cipher where you provide the ciphertext rather than a random key\\nbut does this mean that key is not uniformly distributed because there's a rule determining\\nhow to obtain it rather than being random ? -> not perfectly secret\\n\""
      ]
     },
     "execution_count": 46,
     "metadata": {},
     "output_type": "execute_result"
    }
   ],
   "source": [
    "import numpy as np\n",
    "a=encodeArray('my name is arsalan')\n",
    "b=encodeArray('hello you are cool')\n",
    "n=27\n",
    "def sub(a,b):\n",
    "    return (a-b)%n\n",
    "\n",
    "def subA(a,b):\n",
    "    return list(map(sub,a,b))\n",
    "    \n",
    "def add(a,b):\n",
    "    return (a+b)%n\n",
    "\n",
    "def addA(a,b):\n",
    "    return list(map(add,a,b))\n",
    "\n",
    "\n",
    "key=subA(b,a)\n",
    "\n",
    "#key=list(map(adjust,c))\n",
    "print(addA(a,key)==b)\n",
    "\n",
    "'''\n",
    "basically a vernam cipher where you provide the ciphertext rather than a random key\n",
    "but does this mean that key is not uniformly distributed because there's a rule determining\n",
    "how to obtain it rather than being random ? -> not perfectly secret\n",
    "\n",
    "what about using index of coiencidence for breaking it ?\n",
    "'''\n",
    "\n"
   ]
  },
  {
   "cell_type": "code",
   "execution_count": null,
   "metadata": {
    "collapsed": true
   },
   "outputs": [],
   "source": []
  }
 ],
 "metadata": {
  "kernelspec": {
   "display_name": "Python 3",
   "language": "python",
   "name": "python3"
  },
  "language_info": {
   "codemirror_mode": {
    "name": "ipython",
    "version": 3
   },
   "file_extension": ".py",
   "mimetype": "text/x-python",
   "name": "python",
   "nbconvert_exporter": "python",
   "pygments_lexer": "ipython3",
   "version": "3.6.1"
  }
 },
 "nbformat": 4,
 "nbformat_minor": 2
}
